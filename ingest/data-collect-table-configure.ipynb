{
 "cells": [
  {
   "cell_type": "code",
   "execution_count": 0,
   "metadata": {
    "application/vnd.databricks.v1+cell": {
     "cellMetadata": {},
     "inputWidgets": {},
     "nuid": "bd925746-4a10-413e-9b58-2c261737e0d6",
     "showTitle": false,
     "tableResultSettingsMap": {},
     "title": ""
    }
   },
   "outputs": [],
   "source": [
    "%sql\n",
    "DROP TABLE IF EXISTS bronzeDataTrendCollect;\n",
    "CREATE TABLE IF NOT EXISTS bronzeDataTrendCollect\n",
    "USING DELTA\n",
    "LOCATION '/mnt/storageaccountofmovies/bronze/DataTrend'"
   ]
  },
  {
   "cell_type": "code",
   "execution_count": 0,
   "metadata": {
    "application/vnd.databricks.v1+cell": {
     "cellMetadata": {},
     "inputWidgets": {},
     "nuid": "8d8347ad-b0f0-4ee8-bed5-babbb074e17e",
     "showTitle": false,
     "tableResultSettingsMap": {},
     "title": ""
    }
   },
   "outputs": [],
   "source": [
    "%sql\n",
    "DROP TABLE IF EXISTS bronzeDataNewCollect;\n",
    "CREATE TABLE IF NOT EXISTS bronzeDataNewCollect\n",
    "USING DELTA\n",
    "LOCATION '/mnt/storageaccountofmovies/bronze/DataNew'"
   ]
  },
  {
   "cell_type": "code",
   "execution_count": 0,
   "metadata": {
    "application/vnd.databricks.v1+cell": {
     "cellMetadata": {},
     "inputWidgets": {},
     "nuid": "2799e0bb-2055-4ee5-9bb7-7d525fa0e344",
     "showTitle": false,
     "tableResultSettingsMap": {},
     "title": ""
    }
   },
   "outputs": [],
   "source": [
    "%sql\n",
    "DROP TABLE IF EXISTS bronzeDataGenres;\n",
    "CREATE TABLE IF NOT EXISTS bronzeDataGenres\n",
    "USING DELTA\n",
    "LOCATION '/mnt/storageaccountofmovies/bronze/genres'"
   ]
  }
 ],
 "metadata": {
  "application/vnd.databricks.v1+notebook": {
   "computePreferences": null,
   "dashboards": [],
   "environmentMetadata": {
    "base_environment": "",
    "environment_version": "2"
   },
   "inputWidgetPreferences": null,
   "language": "python",
   "notebookMetadata": {
    "pythonIndentUnit": 4
   },
   "notebookName": "data-collect-table-configure",
   "widgets": {}
  },
  "language_info": {
   "name": "python"
  }
 },
 "nbformat": 4,
 "nbformat_minor": 0
}
