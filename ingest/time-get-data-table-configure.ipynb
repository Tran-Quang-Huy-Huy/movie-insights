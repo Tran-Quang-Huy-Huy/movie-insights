{
 "cells": [
  {
   "cell_type": "code",
   "execution_count": 0,
   "metadata": {
    "application/vnd.databricks.v1+cell": {
     "cellMetadata": {},
     "inputWidgets": {},
     "nuid": "5aab3e91-a4c9-4741-8fb5-798d1ec80a6f",
     "showTitle": false,
     "tableResultSettingsMap": {},
     "title": ""
    }
   },
   "outputs": [],
   "source": [
    "%sql\n",
    "DROP TABLE IF EXISTS weekCollectData;\n",
    "CREATE TABLE IF NOT EXISTS weekCollectData(\n",
    "  DAY_FIRST_WEEK TIMESTAMP, \n",
    "  DAY_LAST_WEEK TIMESTAMP\n",
    ")\n",
    "LOCATION '/mnt/storageaccountofmovies/bronze/weekCollectData'"
   ]
  }
 ],
 "metadata": {
  "application/vnd.databricks.v1+notebook": {
   "computePreferences": null,
   "dashboards": [],
   "environmentMetadata": {
    "base_environment": "",
    "environment_version": "2"
   },
   "inputWidgetPreferences": null,
   "language": "python",
   "notebookMetadata": {
    "pythonIndentUnit": 4
   },
   "notebookName": "time-get-data-table-configure",
   "widgets": {}
  },
  "language_info": {
   "name": "python"
  }
 },
 "nbformat": 4,
 "nbformat_minor": 0
}
