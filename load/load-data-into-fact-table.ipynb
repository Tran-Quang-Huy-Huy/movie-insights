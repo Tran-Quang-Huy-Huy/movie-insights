{
 "cells": [
  {
   "cell_type": "code",
   "execution_count": 0,
   "metadata": {
    "application/vnd.databricks.v1+cell": {
     "cellMetadata": {
      "byteLimit": 2048000,
      "implicitDf": true,
      "rowLimit": 10000
     },
     "inputWidgets": {},
     "nuid": "f6298c48-f6cf-4718-ab17-7643a9761327",
     "showTitle": false,
     "tableResultSettingsMap": {},
     "title": ""
    }
   },
   "outputs": [],
   "source": [
    "%sql\n",
    "INSERT INTO fact_movies\n",
    "SELECT\n",
    "  movieDim.movie_id,\n",
    "  genreDim.genre_id,\n",
    "  companyDim.company_id,\n",
    "  directorDim.director_id,\n",
    "  dateDim.date_id,\n",
    "  fact.popularity,\n",
    "  fact.vote_average,\n",
    "  fact.vote_count,\n",
    "  fact.revenue,\n",
    "  fact.budget,\n",
    "  fact.runtime,\n",
    "  fact.flag_category,\n",
    "  current_timestamp(),\n",
    "  current_timestamp()\n",
    "FROM transformDataAllCollect fact\n",
    "LEFT OUTER JOIN dim_movie movieDim\n",
    "ON fact.title = movieDim.title\n",
    "AND fact.release_date = movieDim.release_date\n",
    "AND fact.overview = movieDim.overview\n",
    "LEFT OUTER JOIN dim_genre genreDim\n",
    "ON fact.genre_ids = genreDim.genre_id\n",
    "LEFT OUTER JOIN dim_company companyDim\n",
    "ON fact.company = companyDim.company_name\n",
    "AND fact.country = companyDim.country\n",
    "LEFT OUTER JOIN dim_director directorDim\n",
    "ON fact.directors = directorDim.director_name\n",
    "LEFT OUTER JOIN dim_date dateDim\n",
    "ON to_date(fact.collect_date) = dateDim.weekStartDate\n",
    "WHERE fact.time_updated > (\n",
    "  SELECT IFNULL(MAX(time_updated), TO_DATE('1900-01-01')) \n",
    "  FROM fact_movies\n",
    ")"
   ]
  },
  {
   "cell_type": "code",
   "execution_count": 0,
   "metadata": {
    "application/vnd.databricks.v1+cell": {
     "cellMetadata": {},
     "inputWidgets": {},
     "nuid": "81ad3ca5-3e0b-4d97-953c-a795e8ccb40a",
     "showTitle": false,
     "tableResultSettingsMap": {},
     "title": ""
    }
   },
   "outputs": [],
   "source": []
  }
 ],
 "metadata": {
  "application/vnd.databricks.v1+notebook": {
   "computePreferences": null,
   "dashboards": [],
   "environmentMetadata": {
    "base_environment": "",
    "environment_version": "2"
   },
   "inputWidgetPreferences": null,
   "language": "python",
   "notebookMetadata": {
    "mostRecentlyExecutedCommandWithImplicitDF": {
     "commandId": 8368172697166351,
     "dataframes": [
      "_sqldf"
     ]
    },
    "pythonIndentUnit": 4
   },
   "notebookName": "load-data-into-fact-table",
   "widgets": {}
  },
  "language_info": {
   "name": "python"
  }
 },
 "nbformat": 4,
 "nbformat_minor": 0
}
