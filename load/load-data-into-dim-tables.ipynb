{
 "cells": [
  {
   "cell_type": "markdown",
   "metadata": {
    "application/vnd.databricks.v1+cell": {
     "cellMetadata": {
      "byteLimit": 2048000,
      "rowLimit": 10000
     },
     "inputWidgets": {},
     "nuid": "b95c04ba-ff34-408a-8a9a-43eddaa74df3",
     "showTitle": false,
     "tableResultSettingsMap": {},
     "title": ""
    }
   },
   "source": [
    "#### Load vào bảng DIM MOVIE"
   ]
  },
  {
   "cell_type": "code",
   "execution_count": 0,
   "metadata": {
    "application/vnd.databricks.v1+cell": {
     "cellMetadata": {
      "byteLimit": 2048000,
      "implicitDf": true,
      "rowLimit": 10000
     },
     "inputWidgets": {},
     "nuid": "30f8778e-2bed-4c62-baae-fbb64924028d",
     "showTitle": false,
     "tableResultSettingsMap": {},
     "title": ""
    }
   },
   "outputs": [],
   "source": [
    "%sql\n",
    "CREATE OR REPLACE TABLE dim_movie_stage_1 AS\n",
    "SELECT\n",
    "  DISTINCT title,\n",
    "  release_date,\n",
    "  overview\n",
    "FROM transformdataallcollect\n",
    "WHERE time_updated > (\n",
    "  SELECT IFNULL(MAX(time_updated), TO_DATE('1900-01-01'))\n",
    "  FROM dim_movie\n",
    ")"
   ]
  },
  {
   "cell_type": "code",
   "execution_count": 0,
   "metadata": {
    "application/vnd.databricks.v1+cell": {
     "cellMetadata": {
      "byteLimit": 2048000,
      "implicitDf": true,
      "rowLimit": 10000
     },
     "inputWidgets": {},
     "nuid": "9b86153f-21f2-4864-90bc-9f4d79c228c8",
     "showTitle": false,
     "tableResultSettingsMap": {},
     "title": ""
    }
   },
   "outputs": [],
   "source": [
    "%sql\n",
    "CREATE OR REPLACE TABLE dim_movie_stage_2 AS\n",
    "SELECT\n",
    "  CASE WHEN goldDim.title IS NULL\n",
    "    THEN row_number() OVER (ORDER BY silverDim.title)\n",
    "    ELSE goldDim.movie_id\n",
    "  END AS movie_id,\n",
    "  silverDim.title,\n",
    "  silverDim.release_date,\n",
    "  silverDim.overview,\n",
    "  goldDim.title AS gold_title\n",
    "FROM dim_movie_stage_1 silverDim\n",
    "LEFT OUTER JOIN dim_movie goldDim\n",
    "ON silverDim.title = goldDim.title\n",
    "WHERE goldDim.title IS NULL\n",
    "  OR silverDim.release_date <> goldDim.release_date\n",
    "  OR silverDim.overview <> goldDim.overview"
   ]
  },
  {
   "cell_type": "code",
   "execution_count": 0,
   "metadata": {
    "application/vnd.databricks.v1+cell": {
     "cellMetadata": {
      "byteLimit": 2048000,
      "implicitDf": true,
      "rowLimit": 10000
     },
     "inputWidgets": {},
     "nuid": "d99efea0-8df3-46a7-b818-5630a3f28ce1",
     "showTitle": false,
     "tableResultSettingsMap": {},
     "title": ""
    }
   },
   "outputs": [],
   "source": [
    "%sql\n",
    "CREATE OR REPLACE TABLE dim_movie_stage_3 AS\n",
    "SELECT  \n",
    "  CASE WHEN gold_title IS NULL\n",
    "    THEN movie_id + MAX_MOVIE\n",
    "    ELSE movie_id\n",
    "  END AS movie_id,\n",
    "  title,\n",
    "  release_date,\n",
    "  overview\n",
    "FROM dim_movie_stage_2\n",
    "CROSS JOIN (\n",
    "  SELECT IFNULL(MAX(movie_id), 0) AS MAX_MOVIE\n",
    "  FROM dim_movie\n",
    ")"
   ]
  },
  {
   "cell_type": "code",
   "execution_count": 0,
   "metadata": {
    "application/vnd.databricks.v1+cell": {
     "cellMetadata": {
      "byteLimit": 2048000,
      "implicitDf": true,
      "rowLimit": 10000
     },
     "inputWidgets": {},
     "nuid": "476011db-1359-45eb-828b-f06fe8fec738",
     "showTitle": false,
     "tableResultSettingsMap": {},
     "title": ""
    }
   },
   "outputs": [],
   "source": [
    "%sql\n",
    "MERGE INTO dim_movie goldDim\n",
    "USING dim_movie_stage_3 silverDim\n",
    "ON goldDim.title = silverDim.title\n",
    "WHEN MATCHED THEN\n",
    "  UPDATE SET\n",
    "    goldDim.release_date = silverDim.release_date,\n",
    "    goldDim.overview = silverDim.overview,\n",
    "    goldDim.time_updated = current_timestamp()\n",
    "WHEN NOT MATCHED THEN\n",
    "  INSERT (\n",
    "    movie_id,\n",
    "    title,\n",
    "    release_date,\n",
    "    overview,\n",
    "    time_inserted,\n",
    "    time_updated\n",
    "    )\n",
    "    VALUES (\n",
    "      silverDim.movie_id,\n",
    "      silverDim.title,\n",
    "      silverDim.release_date,\n",
    "      silverDim.overview,\n",
    "      current_timestamp(),\n",
    "      current_timestamp()\n",
    "      )"
   ]
  },
  {
   "cell_type": "markdown",
   "metadata": {
    "application/vnd.databricks.v1+cell": {
     "cellMetadata": {
      "byteLimit": 2048000,
      "rowLimit": 10000
     },
     "inputWidgets": {},
     "nuid": "a2fad32c-80b0-4ec1-a6a2-9dcaf4189513",
     "showTitle": false,
     "tableResultSettingsMap": {},
     "title": ""
    }
   },
   "source": [
    "#### Load vào bảng DIM COMPANY\n"
   ]
  },
  {
   "cell_type": "code",
   "execution_count": 0,
   "metadata": {
    "application/vnd.databricks.v1+cell": {
     "cellMetadata": {
      "byteLimit": 2048000,
      "implicitDf": true,
      "rowLimit": 10000
     },
     "inputWidgets": {},
     "nuid": "5ef12c2d-022f-4299-92b3-2d20276e26b2",
     "showTitle": false,
     "tableResultSettingsMap": {},
     "title": ""
    }
   },
   "outputs": [],
   "source": [
    "%sql\n",
    "CREATE OR REPLACE TABLE dim_company_stage_1 AS\n",
    "SELECT\n",
    "  DISTINCT company,\n",
    "  country\n",
    "FROM transformdataallcollect\n",
    "WHERE time_updated > (\n",
    "  SELECT IFNULL(MAX(time_updated), TO_DATE('1900-01-01'))\n",
    "  FROM dim_company\n",
    ")"
   ]
  },
  {
   "cell_type": "code",
   "execution_count": 0,
   "metadata": {
    "application/vnd.databricks.v1+cell": {
     "cellMetadata": {
      "byteLimit": 2048000,
      "implicitDf": true,
      "rowLimit": 10000
     },
     "inputWidgets": {},
     "nuid": "d701aecd-046b-4d97-a216-42ea58e23221",
     "showTitle": false,
     "tableResultSettingsMap": {},
     "title": ""
    }
   },
   "outputs": [],
   "source": [
    "%sql\n",
    "CREATE OR REPLACE TABLE dim_company_stage_2 AS\n",
    "SELECT\n",
    "  CASE WHEN goldDim.company_name IS NULL\n",
    "    THEN row_number() OVER (ORDER BY silverDim.company)\n",
    "    ELSE goldDim.company_id\n",
    "  END AS company_id,\n",
    "  silverDim.company,\n",
    "  silverDim.country,\n",
    "  goldDim.company_name AS gold_company\n",
    "FROM dim_company_stage_1 silverDim\n",
    "LEFT OUTER JOIN dim_company goldDim\n",
    "ON silverDim.company = goldDim.company_name\n",
    "WHERE goldDim.company_name IS NULL\n",
    "  OR silverDim.country <> goldDim.country"
   ]
  },
  {
   "cell_type": "code",
   "execution_count": 0,
   "metadata": {
    "application/vnd.databricks.v1+cell": {
     "cellMetadata": {
      "byteLimit": 2048000,
      "implicitDf": true,
      "rowLimit": 10000
     },
     "inputWidgets": {},
     "nuid": "db7dd8a7-e9f5-4c56-8eba-7eb7bfa89bf6",
     "showTitle": false,
     "tableResultSettingsMap": {},
     "title": ""
    }
   },
   "outputs": [],
   "source": [
    "%sql\n",
    "CREATE OR REPLACE TABLE dim_company_stage_3 AS\n",
    "SELECT  \n",
    "  CASE WHEN gold_company IS NULL\n",
    "    THEN company_id + MAX_COMPANY\n",
    "    ELSE company_id\n",
    "  END AS company_id,\n",
    "  company,\n",
    "  country\n",
    "FROM dim_company_stage_2\n",
    "CROSS JOIN (\n",
    "  SELECT IFNULL(MAX(company_id), 0) AS MAX_COMPANY\n",
    "  FROM dim_company\n",
    ")"
   ]
  },
  {
   "cell_type": "code",
   "execution_count": 0,
   "metadata": {
    "application/vnd.databricks.v1+cell": {
     "cellMetadata": {
      "byteLimit": 2048000,
      "implicitDf": true,
      "rowLimit": 10000
     },
     "inputWidgets": {},
     "nuid": "486ac171-8bba-45ab-819b-d842ed9a567d",
     "showTitle": false,
     "tableResultSettingsMap": {},
     "title": ""
    }
   },
   "outputs": [],
   "source": [
    "%sql\n",
    "MERGE INTO dim_company goldDim\n",
    "USING dim_company_stage_3 silverDim\n",
    "ON goldDim.company_name = silverDim.company\n",
    "WHEN MATCHED THEN\n",
    "  UPDATE SET\n",
    "    goldDim.country = silverDim.country,\n",
    "    goldDim.time_updated = current_timestamp()\n",
    "WHEN NOT MATCHED THEN\n",
    "  INSERT (\n",
    "    company_id,\n",
    "    company_name,\n",
    "    country,\n",
    "    time_inserted,\n",
    "    time_updated\n",
    "    )\n",
    "  VALUES (\n",
    "    silverDim.company_id,\n",
    "    silverDim.company,\n",
    "    silverDim.country,\n",
    "    current_timestamp(),\n",
    "    current_timestamp()\n",
    "    )\n",
    "  "
   ]
  },
  {
   "cell_type": "markdown",
   "metadata": {
    "application/vnd.databricks.v1+cell": {
     "cellMetadata": {
      "byteLimit": 2048000,
      "rowLimit": 10000
     },
     "inputWidgets": {},
     "nuid": "f436de1a-a8c2-47c9-907a-f88ef5a32f6c",
     "showTitle": false,
     "tableResultSettingsMap": {},
     "title": ""
    }
   },
   "source": [
    "#### Load vào bảng DIM DIRECTOR\n"
   ]
  },
  {
   "cell_type": "code",
   "execution_count": 0,
   "metadata": {
    "application/vnd.databricks.v1+cell": {
     "cellMetadata": {
      "byteLimit": 2048000,
      "implicitDf": true,
      "rowLimit": 10000
     },
     "inputWidgets": {},
     "nuid": "90844634-98dc-4f58-a5ba-b87c737fb6b2",
     "showTitle": false,
     "tableResultSettingsMap": {},
     "title": ""
    }
   },
   "outputs": [],
   "source": [
    "%sql\n",
    "CREATE OR REPLACE TABLE dim_director_stage_1 AS\n",
    "SELECT\n",
    "  DISTINCT directors\n",
    "FROM transformdataallcollect\n",
    "WHERE time_updated > (\n",
    "  SELECT IFNULL(MAX(time_updated), TO_DATE('1900-01-01'))\n",
    "  FROM dim_director\n",
    ")"
   ]
  },
  {
   "cell_type": "code",
   "execution_count": 0,
   "metadata": {
    "application/vnd.databricks.v1+cell": {
     "cellMetadata": {
      "byteLimit": 2048000,
      "implicitDf": true,
      "rowLimit": 10000
     },
     "inputWidgets": {},
     "nuid": "9e7e812b-ad6d-4f32-b9af-cce4fbe0d95d",
     "showTitle": false,
     "tableResultSettingsMap": {},
     "title": ""
    }
   },
   "outputs": [],
   "source": [
    "%sql\n",
    "CREATE OR REPLACE TABLE dim_director_stage_2 AS\n",
    "SELECT\n",
    "  row_number() OVER (ORDER BY silverDim.directors) AS director_id,\n",
    "  silverDim.directors\n",
    "FROM dim_director_stage_1 silverDim\n",
    "LEFT OUTER JOIN dim_director goldDim\n",
    "ON silverDim.directors = goldDim.director_name\n",
    "WHERE goldDim.director_name IS NULL"
   ]
  },
  {
   "cell_type": "code",
   "execution_count": 0,
   "metadata": {
    "application/vnd.databricks.v1+cell": {
     "cellMetadata": {
      "byteLimit": 2048000,
      "implicitDf": true,
      "rowLimit": 10000
     },
     "inputWidgets": {},
     "nuid": "ff34e8f8-3536-4e6f-9edb-1cd346801262",
     "showTitle": false,
     "tableResultSettingsMap": {},
     "title": ""
    }
   },
   "outputs": [],
   "source": [
    "%sql\n",
    "CREATE OR REPLACE TABLE dim_director_stage_3 AS\n",
    "SELECT  \n",
    "  director_id + MAX_DIRECTOR AS director_id,\n",
    "  directors\n",
    "FROM dim_director_stage_2\n",
    "CROSS JOIN (\n",
    "  SELECT IFNULL(MAX(director_id), 0) AS MAX_DIRECTOR\n",
    "  FROM dim_director\n",
    ")"
   ]
  },
  {
   "cell_type": "code",
   "execution_count": 0,
   "metadata": {
    "application/vnd.databricks.v1+cell": {
     "cellMetadata": {
      "byteLimit": 2048000,
      "implicitDf": true,
      "rowLimit": 10000
     },
     "inputWidgets": {},
     "nuid": "8b0d92c3-bb2b-4cd2-9903-026b20758361",
     "showTitle": false,
     "tableResultSettingsMap": {},
     "title": ""
    }
   },
   "outputs": [],
   "source": [
    "%sql\n",
    "INSERT INTO dim_director\n",
    "SELECT\n",
    "  director_id,\n",
    "  directors,\n",
    "  current_timestamp() AS time_inserted,\n",
    "  current_timestamp() AS time_updated\n",
    "FROM dim_director_stage_3"
   ]
  },
  {
   "cell_type": "code",
   "execution_count": 0,
   "metadata": {
    "application/vnd.databricks.v1+cell": {
     "cellMetadata": {
      "byteLimit": 2048000,
      "rowLimit": 10000
     },
     "inputWidgets": {},
     "nuid": "554f623b-a177-449c-bb68-aca89d85815d",
     "showTitle": false,
     "tableResultSettingsMap": {},
     "title": ""
    }
   },
   "outputs": [],
   "source": []
  }
 ],
 "metadata": {
  "application/vnd.databricks.v1+notebook": {
   "computePreferences": null,
   "dashboards": [],
   "environmentMetadata": {
    "base_environment": "",
    "environment_version": "2"
   },
   "inputWidgetPreferences": null,
   "language": "python",
   "notebookMetadata": {
    "mostRecentlyExecutedCommandWithImplicitDF": {
     "commandId": 5725720998631370,
     "dataframes": [
      "_sqldf"
     ]
    },
    "pythonIndentUnit": 4
   },
   "notebookName": "load-data-into-dim-tables",
   "widgets": {}
  },
  "language_info": {
   "name": "python"
  }
 },
 "nbformat": 4,
 "nbformat_minor": 0
}
