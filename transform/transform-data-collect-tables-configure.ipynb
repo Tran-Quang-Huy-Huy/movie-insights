{
 "cells": [
  {
   "cell_type": "code",
   "execution_count": 0,
   "metadata": {
    "application/vnd.databricks.v1+cell": {
     "cellMetadata": {},
     "inputWidgets": {},
     "nuid": "199fdfd1-ef6f-4c4a-9315-512feefd5c03",
     "showTitle": false,
     "tableResultSettingsMap": {},
     "title": ""
    }
   },
   "outputs": [],
   "source": [
    "%sql\n",
    "DROP TABLE IF EXISTS transformDataTrendCollect;\n",
    "CREATE TABLE IF NOT EXISTS transformDataTrendCollect (\n",
    "  backdrop_path STRING,\n",
    "  id BIGINT,\n",
    "  title STRING,\n",
    "  original_title STRING,\n",
    "  overview STRING,\n",
    "  poster_path STRING,\n",
    "  media_type STRING,\n",
    "  adult BOOLEAN,\n",
    "  original_language STRING,\n",
    "  genre_ids BIGINT,\n",
    "  popularity DECIMAL(18, 4),\n",
    "  release_date DATE,\n",
    "  video BOOLEAN,\n",
    "  vote_average DECIMAL(18, 3),\n",
    "  vote_count BIGINT,\n",
    "  revenue BIGINT,\n",
    "  budget BIGINT,\n",
    "  runtime BIGINT,\n",
    "  company STRING,\n",
    "  country STRING,\n",
    "  directors STRING,\n",
    "  collect_date TIMESTAMP,\n",
    "  flag_category STRING\n",
    ")\n",
    "USING DELTA\n",
    "LOCATION '/mnt/storageaccountofmovies/silver/transformDataTrendCollect'"
   ]
  },
  {
   "cell_type": "code",
   "execution_count": 0,
   "metadata": {
    "application/vnd.databricks.v1+cell": {
     "cellMetadata": {},
     "inputWidgets": {},
     "nuid": "4dac858d-a60e-4f52-bc42-a5b3fe84bd84",
     "showTitle": false,
     "tableResultSettingsMap": {},
     "title": ""
    }
   },
   "outputs": [],
   "source": [
    "%sql\n",
    "DROP TABLE IF EXISTS transformDataNewCollect;\n",
    "CREATE TABLE IF NOT EXISTS transformDataNewCollect (\n",
    "  backdrop_path STRING,\n",
    "  id BIGINT,\n",
    "  title STRING,\n",
    "  original_title STRING,\n",
    "  overview STRING,\n",
    "  poster_path STRING,\n",
    "  media_type STRING,\n",
    "  adult BOOLEAN,\n",
    "  original_language STRING,\n",
    "  genre_ids BIGINT,\n",
    "  popularity DECIMAL(18, 4),\n",
    "  release_date DATE,\n",
    "  video BOOLEAN,\n",
    "  vote_average DECIMAL(18, 3),\n",
    "  vote_count BIGINT,\n",
    "  revenue BIGINT,\n",
    "  budget BIGINT,\n",
    "  runtime BIGINT,\n",
    "  company STRING,\n",
    "  country STRING,\n",
    "  directors STRING,\n",
    "  collect_date TIMESTAMP,\n",
    "  flag_category STRING\n",
    ")\n",
    "USING DELTA\n",
    "LOCATION '/mnt/storageaccountofmovies/silver/transformDataNewCollect'"
   ]
  },
  {
   "cell_type": "code",
   "execution_count": 0,
   "metadata": {
    "application/vnd.databricks.v1+cell": {
     "cellMetadata": {},
     "inputWidgets": {},
     "nuid": "87a7370c-56bc-44ad-a878-a2a7843504fa",
     "showTitle": false,
     "tableResultSettingsMap": {},
     "title": ""
    }
   },
   "outputs": [],
   "source": [
    "%sql\n",
    "DROP TABLE IF EXISTS transformDataAllCollect;\n",
    "CREATE TABLE IF NOT EXISTS transformDataAllCollect (\n",
    "  backdrop_path STRING,\n",
    "  id BIGINT,\n",
    "  title STRING,\n",
    "  original_title STRING,\n",
    "  overview STRING,\n",
    "  poster_path STRING,\n",
    "  media_type STRING,\n",
    "  adult BOOLEAN,\n",
    "  original_language STRING,\n",
    "  genre_ids BIGINT,\n",
    "  popularity DECIMAL(18, 4),\n",
    "  release_date DATE,\n",
    "  video BOOLEAN,\n",
    "  vote_average DECIMAL(18, 3),\n",
    "  vote_count BIGINT,\n",
    "  revenue BIGINT,\n",
    "  budget BIGINT,\n",
    "  runtime BIGINT,\n",
    "  company STRING,\n",
    "  country STRING,\n",
    "  directors STRING,\n",
    "  collect_date TIMESTAMP,\n",
    "  flag_category STRING,\n",
    "  time_inserted TIMESTAMP,\n",
    "  time_updated TIMESTAMP\n",
    ")\n",
    "USING DELTA\n",
    "LOCATION '/mnt/storageaccountofmovies/silver/transformDataAllCollect'"
   ]
  }
 ],
 "metadata": {
  "application/vnd.databricks.v1+notebook": {
   "computePreferences": null,
   "dashboards": [],
   "environmentMetadata": {
    "base_environment": "",
    "environment_version": "2"
   },
   "inputWidgetPreferences": null,
   "language": "python",
   "notebookMetadata": {
    "pythonIndentUnit": 4
   },
   "notebookName": "transform-data-collect-tables-configure",
   "widgets": {}
  },
  "language_info": {
   "name": "python"
  }
 },
 "nbformat": 4,
 "nbformat_minor": 0
}
